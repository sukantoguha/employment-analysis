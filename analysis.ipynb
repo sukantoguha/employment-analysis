{
 "cells": [
  {
   "cell_type": "code",
   "execution_count": 7,
   "id": "482d7410",
   "metadata": {},
   "outputs": [],
   "source": [
    "import pandas as pd\n",
    "import seaborn as sns\n",
    "import matplotlib.pyplot as plt\n",
    "plt.style.use('seaborn-whitegrid')\n",
    "import numpy as np"
   ]
  },
  {
   "cell_type": "code",
   "execution_count": 9,
   "id": "5101308c",
   "metadata": {},
   "outputs": [],
   "source": [
    "df = pd.read_csv(\"data/top2kcompanynames.csv\",index_col=None)"
   ]
  },
  {
   "cell_type": "code",
   "execution_count": 17,
   "id": "7f6d92d0",
   "metadata": {},
   "outputs": [
    {
     "data": {
      "text/plain": [
       "2154850.0"
      ]
     },
     "execution_count": 17,
     "metadata": {},
     "output_type": "execute_result"
    }
   ],
   "source": [
    "df[:1000]['total_filings'].sum()"
   ]
  },
  {
   "cell_type": "code",
   "execution_count": 18,
   "id": "f73099b1",
   "metadata": {},
   "outputs": [
    {
     "data": {
      "text/plain": [
       "367747.0"
      ]
     },
     "execution_count": 18,
     "metadata": {},
     "output_type": "execute_result"
    }
   ],
   "source": [
    "df[1000:]['total_filings'].sum()"
   ]
  },
  {
   "cell_type": "code",
   "execution_count": null,
   "id": "e41ca801",
   "metadata": {},
   "outputs": [],
   "source": [
    "df['total_filings'][:1000].sum"
   ]
  },
  {
   "cell_type": "code",
   "execution_count": 11,
   "id": "fa90de96",
   "metadata": {},
   "outputs": [
    {
     "data": {
      "text/plain": [
       "2522597.0"
      ]
     },
     "execution_count": 11,
     "metadata": {},
     "output_type": "execute_result"
    }
   ],
   "source": [
    "df['total_filings'].sum()"
   ]
  },
  {
   "cell_type": "code",
   "execution_count": 12,
   "id": "0f342ce6",
   "metadata": {},
   "outputs": [],
   "source": [
    "df.rename( columns={'Unnamed: 0':'index'}, inplace=True )\n",
    "df['year'] = df['year'].astype(dtype = int, errors = 'ignore')"
   ]
  },
  {
   "cell_type": "code",
   "execution_count": 4,
   "id": "9cf6736e",
   "metadata": {},
   "outputs": [
    {
     "data": {
      "text/plain": [
       "index          3793\n",
       "employer       3793\n",
       "job title      3793\n",
       "base salary    3793\n",
       "location       3793\n",
       "submit date    3793\n",
       "start date     3793\n",
       "state          3793\n",
       "year           3793\n",
       "month          3793\n",
       "dtype: int64"
      ]
     },
     "execution_count": 4,
     "metadata": {},
     "output_type": "execute_result"
    }
   ],
   "source": [
    "df.groupby(['year','employer']).filter(lambda x : len(x) >10).count()"
   ]
  },
  {
   "cell_type": "code",
   "execution_count": 13,
   "id": "56194b79",
   "metadata": {},
   "outputs": [
    {
     "data": {
      "text/html": [
       "<div>\n",
       "<style scoped>\n",
       "    .dataframe tbody tr th:only-of-type {\n",
       "        vertical-align: middle;\n",
       "    }\n",
       "\n",
       "    .dataframe tbody tr th {\n",
       "        vertical-align: top;\n",
       "    }\n",
       "\n",
       "    .dataframe thead th {\n",
       "        text-align: right;\n",
       "    }\n",
       "</style>\n",
       "<table border=\"1\" class=\"dataframe\">\n",
       "  <thead>\n",
       "    <tr style=\"text-align: right;\">\n",
       "      <th></th>\n",
       "      <th>index</th>\n",
       "      <th>employer</th>\n",
       "      <th>job title</th>\n",
       "      <th>base salary</th>\n",
       "      <th>location</th>\n",
       "      <th>submit date</th>\n",
       "      <th>start date</th>\n",
       "      <th>state</th>\n",
       "      <th>year</th>\n",
       "      <th>month</th>\n",
       "    </tr>\n",
       "  </thead>\n",
       "  <tbody>\n",
       "    <tr>\n",
       "      <th>0</th>\n",
       "      <td>0</td>\n",
       "      <td>FORTRESS INFORMATION SECURITY LLC</td>\n",
       "      <td>DATA SCIENTIST</td>\n",
       "      <td>45980.0</td>\n",
       "      <td>ORLANDO FL</td>\n",
       "      <td>2020-04-09</td>\n",
       "      <td>2020-10-01</td>\n",
       "      <td>FL</td>\n",
       "      <td>2020.0</td>\n",
       "      <td>4.0</td>\n",
       "    </tr>\n",
       "    <tr>\n",
       "      <th>1</th>\n",
       "      <td>1</td>\n",
       "      <td>PERCOLATA CORPORATION</td>\n",
       "      <td>DATA SCIENTIST</td>\n",
       "      <td>46060.0</td>\n",
       "      <td>PALO ALTO CA</td>\n",
       "      <td>2016-03-18</td>\n",
       "      <td>2016-09-02</td>\n",
       "      <td>CA</td>\n",
       "      <td>2016.0</td>\n",
       "      <td>3.0</td>\n",
       "    </tr>\n",
       "    <tr>\n",
       "      <th>2</th>\n",
       "      <td>2</td>\n",
       "      <td>MY LIFE REGISTRY LLC</td>\n",
       "      <td>DATA SCIENTIST</td>\n",
       "      <td>47960.0</td>\n",
       "      <td>FORT LEE NJ</td>\n",
       "      <td>2015-02-18</td>\n",
       "      <td>2015-08-20</td>\n",
       "      <td>NJ</td>\n",
       "      <td>2015.0</td>\n",
       "      <td>2.0</td>\n",
       "    </tr>\n",
       "    <tr>\n",
       "      <th>3</th>\n",
       "      <td>3</td>\n",
       "      <td>MY LIFE REGISTRY LLC</td>\n",
       "      <td>DATA SCIENTIST</td>\n",
       "      <td>47960.0</td>\n",
       "      <td>FORT LEE NJ</td>\n",
       "      <td>2015-02-18</td>\n",
       "      <td>2015-08-20</td>\n",
       "      <td>NJ</td>\n",
       "      <td>2015.0</td>\n",
       "      <td>2.0</td>\n",
       "    </tr>\n",
       "    <tr>\n",
       "      <th>4</th>\n",
       "      <td>4</td>\n",
       "      <td>BIG DATA ANALYTICS TRADING INC</td>\n",
       "      <td>DATA SCIENTIST</td>\n",
       "      <td>50000.0</td>\n",
       "      <td>JOHNS CREEK GA</td>\n",
       "      <td>2017-03-16</td>\n",
       "      <td>2017-09-01</td>\n",
       "      <td>GA</td>\n",
       "      <td>2017.0</td>\n",
       "      <td>3.0</td>\n",
       "    </tr>\n",
       "    <tr>\n",
       "      <th>...</th>\n",
       "      <td>...</td>\n",
       "      <td>...</td>\n",
       "      <td>...</td>\n",
       "      <td>...</td>\n",
       "      <td>...</td>\n",
       "      <td>...</td>\n",
       "      <td>...</td>\n",
       "      <td>...</td>\n",
       "      <td>...</td>\n",
       "      <td>...</td>\n",
       "    </tr>\n",
       "    <tr>\n",
       "      <th>13122</th>\n",
       "      <td>13122</td>\n",
       "      <td>CITADEL AMERICAS LLC</td>\n",
       "      <td>DATA SCIENTIST</td>\n",
       "      <td>300000.0</td>\n",
       "      <td>NEW YORK NY</td>\n",
       "      <td>2019-10-08</td>\n",
       "      <td>2019-11-11</td>\n",
       "      <td>NY</td>\n",
       "      <td>2019.0</td>\n",
       "      <td>10.0</td>\n",
       "    </tr>\n",
       "    <tr>\n",
       "      <th>13123</th>\n",
       "      <td>13123</td>\n",
       "      <td>NETFLIX INC</td>\n",
       "      <td>DATA SCIENTIST</td>\n",
       "      <td>360000.0</td>\n",
       "      <td>LOS GATOS CA</td>\n",
       "      <td>2019-11-19</td>\n",
       "      <td>2019-11-30</td>\n",
       "      <td>CA</td>\n",
       "      <td>2019.0</td>\n",
       "      <td>11.0</td>\n",
       "    </tr>\n",
       "    <tr>\n",
       "      <th>13124</th>\n",
       "      <td>13124</td>\n",
       "      <td>TAGUP INC</td>\n",
       "      <td>DATA SCIENTIST</td>\n",
       "      <td>870000.0</td>\n",
       "      <td>SOMERVILLE MA</td>\n",
       "      <td>2020-03-27</td>\n",
       "      <td>2020-09-19</td>\n",
       "      <td>MA</td>\n",
       "      <td>2020.0</td>\n",
       "      <td>3.0</td>\n",
       "    </tr>\n",
       "    <tr>\n",
       "      <th>13125</th>\n",
       "      <td>13125</td>\n",
       "      <td>FACEBOOK INC</td>\n",
       "      <td>DATA SCIENTIST</td>\n",
       "      <td>1250000.0</td>\n",
       "      <td>MENLO PARK CA</td>\n",
       "      <td>2020-04-15</td>\n",
       "      <td>2020-05-25</td>\n",
       "      <td>CA</td>\n",
       "      <td>2020.0</td>\n",
       "      <td>4.0</td>\n",
       "    </tr>\n",
       "    <tr>\n",
       "      <th>13126</th>\n",
       "      <td>13126</td>\n",
       "      <td>AIRBNB INC</td>\n",
       "      <td>DATA SCIENTIST</td>\n",
       "      <td>1350001.0</td>\n",
       "      <td>SAN FRANCISCO CA</td>\n",
       "      <td>2015-02-12</td>\n",
       "      <td>2015-08-01</td>\n",
       "      <td>CA</td>\n",
       "      <td>2015.0</td>\n",
       "      <td>2.0</td>\n",
       "    </tr>\n",
       "  </tbody>\n",
       "</table>\n",
       "<p>13127 rows × 10 columns</p>\n",
       "</div>"
      ],
      "text/plain": [
       "       index                           employer       job title  base salary  \\\n",
       "0          0  FORTRESS INFORMATION SECURITY LLC  DATA SCIENTIST      45980.0   \n",
       "1          1              PERCOLATA CORPORATION  DATA SCIENTIST      46060.0   \n",
       "2          2               MY LIFE REGISTRY LLC  DATA SCIENTIST      47960.0   \n",
       "3          3               MY LIFE REGISTRY LLC  DATA SCIENTIST      47960.0   \n",
       "4          4     BIG DATA ANALYTICS TRADING INC  DATA SCIENTIST      50000.0   \n",
       "...      ...                                ...             ...          ...   \n",
       "13122  13122               CITADEL AMERICAS LLC  DATA SCIENTIST     300000.0   \n",
       "13123  13123                        NETFLIX INC  DATA SCIENTIST     360000.0   \n",
       "13124  13124                          TAGUP INC  DATA SCIENTIST     870000.0   \n",
       "13125  13125                       FACEBOOK INC  DATA SCIENTIST    1250000.0   \n",
       "13126  13126                         AIRBNB INC  DATA SCIENTIST    1350001.0   \n",
       "\n",
       "               location submit date  start date state    year  month  \n",
       "0            ORLANDO FL  2020-04-09  2020-10-01    FL  2020.0    4.0  \n",
       "1          PALO ALTO CA  2016-03-18  2016-09-02    CA  2016.0    3.0  \n",
       "2           FORT LEE NJ  2015-02-18  2015-08-20    NJ  2015.0    2.0  \n",
       "3           FORT LEE NJ  2015-02-18  2015-08-20    NJ  2015.0    2.0  \n",
       "4        JOHNS CREEK GA  2017-03-16  2017-09-01    GA  2017.0    3.0  \n",
       "...                 ...         ...         ...   ...     ...    ...  \n",
       "13122       NEW YORK NY  2019-10-08  2019-11-11    NY  2019.0   10.0  \n",
       "13123      LOS GATOS CA  2019-11-19  2019-11-30    CA  2019.0   11.0  \n",
       "13124     SOMERVILLE MA  2020-03-27  2020-09-19    MA  2020.0    3.0  \n",
       "13125     MENLO PARK CA  2020-04-15  2020-05-25    CA  2020.0    4.0  \n",
       "13126  SAN FRANCISCO CA  2015-02-12  2015-08-01    CA  2015.0    2.0  \n",
       "\n",
       "[13127 rows x 10 columns]"
      ]
     },
     "execution_count": 13,
     "metadata": {},
     "output_type": "execute_result"
    }
   ],
   "source": [
    "df"
   ]
  },
  {
   "cell_type": "code",
   "execution_count": 36,
   "id": "36b34188",
   "metadata": {},
   "outputs": [],
   "source": [
    "df_grouped = df.groupby(['year','employer','base salary','location','state','job title','submit date','start date','month']).count().reset_index().sort_values(by='index', ascending=False)\n"
   ]
  },
  {
   "cell_type": "code",
   "execution_count": 52,
   "id": "50b72548",
   "metadata": {},
   "outputs": [],
   "source": [
    "df_grouped =df[['year','employer','index']].groupby(['year','employer']).count().reset_index().sort_values(by='index', ascending=False)\n"
   ]
  },
  {
   "cell_type": "code",
   "execution_count": 53,
   "id": "1a415a8b",
   "metadata": {},
   "outputs": [
    {
     "data": {
      "text/html": [
       "<div>\n",
       "<style scoped>\n",
       "    .dataframe tbody tr th:only-of-type {\n",
       "        vertical-align: middle;\n",
       "    }\n",
       "\n",
       "    .dataframe tbody tr th {\n",
       "        vertical-align: top;\n",
       "    }\n",
       "\n",
       "    .dataframe thead th {\n",
       "        text-align: right;\n",
       "    }\n",
       "</style>\n",
       "<table border=\"1\" class=\"dataframe\">\n",
       "  <thead>\n",
       "    <tr style=\"text-align: right;\">\n",
       "      <th></th>\n",
       "      <th>year</th>\n",
       "      <th>employer</th>\n",
       "      <th>index</th>\n",
       "    </tr>\n",
       "  </thead>\n",
       "  <tbody>\n",
       "    <tr>\n",
       "      <th>4977</th>\n",
       "      <td>2021.0</td>\n",
       "      <td>FACEBOOK INC</td>\n",
       "      <td>249</td>\n",
       "    </tr>\n",
       "    <tr>\n",
       "      <th>3908</th>\n",
       "      <td>2020.0</td>\n",
       "      <td>FACEBOOK INC</td>\n",
       "      <td>168</td>\n",
       "    </tr>\n",
       "    <tr>\n",
       "      <th>1758</th>\n",
       "      <td>2018.0</td>\n",
       "      <td>FACEBOOK INC</td>\n",
       "      <td>151</td>\n",
       "    </tr>\n",
       "    <tr>\n",
       "      <th>2763</th>\n",
       "      <td>2019.0</td>\n",
       "      <td>FACEBOOK INC</td>\n",
       "      <td>141</td>\n",
       "    </tr>\n",
       "    <tr>\n",
       "      <th>1024</th>\n",
       "      <td>2017.0</td>\n",
       "      <td>FACEBOOK INC</td>\n",
       "      <td>60</td>\n",
       "    </tr>\n",
       "    <tr>\n",
       "      <th>498</th>\n",
       "      <td>2016.0</td>\n",
       "      <td>FACEBOOK INC</td>\n",
       "      <td>37</td>\n",
       "    </tr>\n",
       "    <tr>\n",
       "      <th>154</th>\n",
       "      <td>2015.0</td>\n",
       "      <td>FACEBOOK INC</td>\n",
       "      <td>28</td>\n",
       "    </tr>\n",
       "    <tr>\n",
       "      <th>15</th>\n",
       "      <td>2014.0</td>\n",
       "      <td>FACEBOOK INC</td>\n",
       "      <td>9</td>\n",
       "    </tr>\n",
       "  </tbody>\n",
       "</table>\n",
       "</div>"
      ],
      "text/plain": [
       "        year      employer  index\n",
       "4977  2021.0  FACEBOOK INC    249\n",
       "3908  2020.0  FACEBOOK INC    168\n",
       "1758  2018.0  FACEBOOK INC    151\n",
       "2763  2019.0  FACEBOOK INC    141\n",
       "1024  2017.0  FACEBOOK INC     60\n",
       "498   2016.0  FACEBOOK INC     37\n",
       "154   2015.0  FACEBOOK INC     28\n",
       "15    2014.0  FACEBOOK INC      9"
      ]
     },
     "execution_count": 53,
     "metadata": {},
     "output_type": "execute_result"
    }
   ],
   "source": [
    "df_fb = df_grouped[df_grouped.employer == 'FACEBOOK INC']\n",
    "df_fb"
   ]
  },
  {
   "cell_type": "code",
   "execution_count": 62,
   "id": "7c61a9af",
   "metadata": {},
   "outputs": [
    {
     "data": {
      "text/plain": [
       "Text(0.5, 1.0, 'Facebook H1-B applications for Data Scientsit by year')"
      ]
     },
     "execution_count": 62,
     "metadata": {},
     "output_type": "execute_result"
    },
    {
     "data": {
      "image/png": "[encoded data removed]",
      "text/plain": [
       "<Figure size 432x288 with 1 Axes>"
      ]
     },
     "metadata": {},
     "output_type": "display_data"
    }
   ],
   "source": [
    "sns.scatterplot(data= df_fb, x = 'year', y = 'index')\n",
    "plt.title('Facebook H1-B applications for Data Scientsit by year')"
   ]
  },
  {
   "cell_type": "code",
   "execution_count": null,
   "id": "69efff58",
   "metadata": {},
   "outputs": [],
   "source": []
  }
 ],
 "metadata": {
  "kernelspec": {
   "display_name": "Python 3 (ipykernel)",
   "language": "python",
   "name": "python3"
  },
  "language_info": {
   "codemirror_mode": {
    "name": "ipython",
    "version": 3
   },
   "file_extension": ".py",
   "mimetype": "text/x-python",
   "name": "python",
   "nbconvert_exporter": "python",
   "pygments_lexer": "ipython3",
   "version": "3.9.10"
  }
 },
 "nbformat": 4,
 "nbformat_minor": 5
}
